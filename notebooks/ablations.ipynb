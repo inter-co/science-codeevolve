{
 "cells": [
  {
   "cell_type": "markdown",
   "metadata": {},
   "source": [
    "# Ablations for experiments\n",
    "\n",
    "In this notebook, we conduct the ablation studies for the following experiments:\n",
    "- **P1**: Second autocorrelation inequality (AlphaEvolve's B2) \n",
    "- **P2**: Minimizing the ratio of maximum to minimum distance (AlphaEvolve's B8) \n",
    "- **P3**: Packing circles inside a unit square to maximize sum of radii (AlphaEvolve's B12) \n",
    "- **P4**: Packing circles inside a rectangle of perimeter 4 to maximize sum of radii (AlphaEvolve's B13)  "
   ]
  },
  {
   "cell_type": "markdown",
   "metadata": {},
   "source": [
    "## Imports and auxiliary functions"
   ]
  },
  {
   "cell_type": "code",
   "execution_count": null,
   "metadata": {},
   "outputs": [],
   "source": [
    "import sys\n",
    "\n",
    "sys.path.insert(0, \"../\")\n",
    "\n",
    "import os\n",
    "import sys\n",
    "from importlib import __import__\n",
    "\n",
    "import pandas as pd\n",
    "\n",
    "from codeevolve.utils.data_analysis_utils import (\n",
    "    process_experiments,\n",
    "    plot_experiments_statistical_summary,\n",
    ")"
   ]
  },
  {
   "cell_type": "markdown",
   "metadata": {},
   "source": [
    "## Loading and processing experiments"
   ]
  },
  {
   "cell_type": "code",
   "execution_count": null,
   "metadata": {},
   "outputs": [],
   "source": [
    "model_names = [\"GOOGLE_GEMINI-2.5-FLASH\", \"GOOGLE_GEMINI-2.5-PRO\"]\n",
    "model2cost = {\n",
    "    \"GOOGLE_GEMINI-2.5-FLASH\": {\"prompt_pm\": 0.3, \"compl_pm\": 2.5},\n",
    "    \"GOOGLE_GEMINI-2.5-PRO\": {\"prompt_pm\": 2.5, \"compl_pm\": 12.5},\n",
    "}\n",
    "\n",
    "args_list = [\n",
    "    {\n",
    "        \"inpt_dir\": \"../benchmarks/second_autocorr_ineq/\",\n",
    "        \"out_dirs\": [\n",
    "            \"gemini_no_evolve/\",\n",
    "            \"gemini_no_mp_or_insp/\",\n",
    "            \"gemini_mp/\",\n",
    "            \"gemini_insp/\",\n",
    "            \"gemini_mp_insp/\",\n",
    "        ],\n",
    "        \"sol_func_name\": \"run\",\n",
    "    },\n",
    "    {\n",
    "        \"inpt_dir\": \"../benchmarks/minimizing_max_min_dist/2/\",\n",
    "        \"out_dirs\": [\n",
    "            \"gemini_mp/\",\n",
    "            \"gemini_mp2/\",\n",
    "            \"gemini_mp_insp/\",\n",
    "            \"gemini_mp_insp_nocontext/\",\n",
    "            \"gemini_rank/\",\n",
    "            \"gemini_no_evolve/\",\n",
    "            \"gemini_insp/\",\n",
    "        ],\n",
    "        \"sol_func_name\": \"min_max_dist_dim2_16\",\n",
    "    },\n",
    "    {\n",
    "        \"inpt_dir\": \"../benchmarks/minimizing_max_min_dist/3/\",\n",
    "        \"out_dirs\": [\"gemini_mp_insp/\", \"gemini_mp_insp_nocontext/\"],\n",
    "        \"sol_func_name\": \"min_max_dist_dim3_14\",\n",
    "    },\n",
    "    {\n",
    "        \"inpt_dir\": \"../benchmarks/circle_packing_square/26/\",\n",
    "        \"out_dirs\": [\n",
    "            \"gemini_no_evolve/\",\n",
    "            \"gemini_no_mp_or_insp/\",\n",
    "            \"gemini_mp/\",\n",
    "            \"gemini_insp/\",\n",
    "            \"gemini_mp_insp/\",\n",
    "        ],\n",
    "        \"sol_func_name\": \"circle_packing26\",\n",
    "    },\n",
    "    {\n",
    "        \"inpt_dir\": \"../benchmarks/circle_packing_square/32/\",\n",
    "        \"out_dirs\": [\n",
    "            \"gemini_no_evolve/\",\n",
    "            \"gemini_no_mp_or_insp/\",\n",
    "            \"gemini_mp/\",\n",
    "            \"gemini_insp/\",\n",
    "            \"gemini_mp_insp/\",\n",
    "            \"gemini_mp_insp2/\",\n",
    "        ],\n",
    "        \"sol_func_name\": \"circle_packing32\",\n",
    "    },\n",
    "    {\n",
    "        \"inpt_dir\": \"../benchmarks/circle_packing_rect/\",\n",
    "        \"out_dirs\": [\n",
    "            \"gemini_mp_insp/\",\n",
    "            \"gemini_mp_insp_nocontext/\"\n",
    "        ],\n",
    "        \"sol_func_name\": \"circle_packing21\",\n",
    "    },\n",
    "]\n",
    "inpt_dir2index = {args_list[i][\"inpt_dir\"]: i for i in range(len(args_list))}\n",
    "\n",
    "overview_df_rows = []\n",
    "all_exp = {}\n",
    "\n",
    "for args in args_list:\n",
    "    experiments_res = process_experiments(args, model_names, model2cost)\n",
    "    all_exp[args[\"inpt_dir\"]] = experiments_res\n",
    "\n",
    "    for exp in experiments_res.keys():\n",
    "        best_isl = experiments_res[exp][\"df\"][\"best_fitness\"].idxmax()\n",
    "        overview_df_rows.append(\n",
    "            [\n",
    "                f\"{args['inpt_dir']}{exp}\",\n",
    "                experiments_res[exp][\"df\"][\"best_fitness\"].iloc[best_isl],\n",
    "                experiments_res[exp][\"df\"][\"epoch_best_found\"].iloc[best_isl],\n",
    "                experiments_res[exp][\"df\"][\"num_epochs\"].iloc[best_isl],\n",
    "                experiments_res[exp][\"cost\"],\n",
    "            ]\n",
    "        )\n",
    "\n",
    "overview_df = pd.DataFrame(\n",
    "    overview_df_rows,\n",
    "    columns=[\"exp_name\", \"best_fitness\", \"epoch_best_found\", \"num_epochs\", \"est_cost\"],\n",
    ")\n",
    "\n",
    "overview_df"
   ]
  },
  {
   "cell_type": "markdown",
   "metadata": {},
   "source": [
    "## Ablations"
   ]
  },
  {
   "cell_type": "code",
   "execution_count": null,
   "metadata": {},
   "outputs": [],
   "source": [
    "os.makedirs(\"figs/\", exist_ok=True)"
   ]
  },
  {
   "cell_type": "markdown",
   "metadata": {},
   "source": [
    "### P1"
   ]
  },
  {
   "cell_type": "code",
   "execution_count": null,
   "metadata": {},
   "outputs": [],
   "source": [
    "args = args_list[inpt_dir2index[\"../benchmarks/second_autocorr_ineq/\"]]\n",
    "print(args)\n",
    "\n",
    "experiments_res = all_exp[args[\"inpt_dir\"]]"
   ]
  },
  {
   "cell_type": "code",
   "execution_count": null,
   "metadata": {},
   "outputs": [],
   "source": [
    "plot_experiments_statistical_summary(\n",
    "    {\n",
    "        \"mp + insp\": experiments_res[\"gemini_mp_insp/\"][\"res\"],\n",
    "        \"insp\": experiments_res[\"gemini_insp/\"][\"res\"],\n",
    "        \"mp\": experiments_res[\"gemini_mp/\"][\"res\"],\n",
    "        \"no mp or insp\": experiments_res[\"gemini_no_mp_or_insp/\"][\"res\"],\n",
    "        \"no evolution\": experiments_res[\"gemini_no_evolve/\"][\"res\"],\n",
    "    },\n",
    "    epsilon=1e-2,\n",
    "    title=\"Ablations for experiment P1\",\n",
    "    save_path=\"figs/P1_ablations.pdf\",\n",
    ")"
   ]
  },
  {
   "cell_type": "markdown",
   "metadata": {},
   "source": [
    "### P2"
   ]
  },
  {
   "cell_type": "markdown",
   "metadata": {},
   "source": [
    "#### P2.A (n = 16, d = 2)"
   ]
  },
  {
   "cell_type": "code",
   "execution_count": null,
   "metadata": {},
   "outputs": [],
   "source": [
    "args = args_list[inpt_dir2index[\"../benchmarks/minimizing_max_min_dist/2/\"]]\n",
    "print(args)\n",
    "\n",
    "experiments_res = all_exp[args[\"inpt_dir\"]]"
   ]
  },
  {
   "cell_type": "code",
   "execution_count": null,
   "metadata": {},
   "outputs": [],
   "source": [
    "plot_experiments_statistical_summary(\n",
    "    {\n",
    "        \"mp + insp\": experiments_res[\"gemini_mp_insp_nocontext/\"][\"res\"],\n",
    "        \"insp\": experiments_res[\"gemini_insp/\"][\"res\"],\n",
    "        \"mp\": experiments_res[\"gemini_mp2/\"][\"res\"],\n",
    "        \"no mp or insp\": experiments_res[\"gemini_rank/\"][\"res\"],\n",
    "        \"no evolution\": experiments_res[\"gemini_no_evolve/\"][\"res\"],\n",
    "    },\n",
    "    epsilon=1e-4,\n",
    "    title=\"Ablations for experiment P2.A\",\n",
    "    save_path=\"figs/P2A_ablations.pdf\",\n",
    ")"
   ]
  },
  {
   "cell_type": "markdown",
   "metadata": {},
   "source": [
    "#### P2.B (n = 14, d = 3)"
   ]
  },
  {
   "cell_type": "code",
   "execution_count": null,
   "metadata": {},
   "outputs": [],
   "source": [
    "args = args_list[inpt_dir2index[\"../benchmarks/minimizing_max_min_dist/3/\"]]\n",
    "print(args)\n",
    "\n",
    "experiments_res = all_exp[args[\"inpt_dir\"]]"
   ]
  },
  {
   "cell_type": "markdown",
   "metadata": {},
   "source": [
    "### P3"
   ]
  },
  {
   "cell_type": "markdown",
   "metadata": {},
   "source": [
    "#### P3.A (n = 26)"
   ]
  },
  {
   "cell_type": "code",
   "execution_count": null,
   "metadata": {},
   "outputs": [],
   "source": [
    "args = args_list[inpt_dir2index[\"../benchmarks/circle_packing_square/26/\"]]\n",
    "print(args)\n",
    "\n",
    "experiments_res = all_exp[args[\"inpt_dir\"]]"
   ]
  },
  {
   "cell_type": "code",
   "execution_count": null,
   "metadata": {},
   "outputs": [],
   "source": [
    "plot_experiments_statistical_summary(\n",
    "    {\n",
    "        \"mp + insp\": experiments_res[\"gemini_mp_insp/\"][\"res\"],\n",
    "        \"insp\": experiments_res[\"gemini_insp/\"][\"res\"],\n",
    "        \"mp\": experiments_res[\"gemini_mp/\"][\"res\"],\n",
    "        \"no mp or insp\": experiments_res[\"gemini_no_mp_or_insp/\"][\"res\"],\n",
    "        \"no evolution\": experiments_res[\"gemini_no_evolve/\"][\"res\"],\n",
    "    },\n",
    "    epsilon=1e-4,\n",
    "    title=\"Ablations for experiment P3.A\",\n",
    "    save_path=\"figs/P3A_ablations.pdf\",\n",
    ")"
   ]
  },
  {
   "cell_type": "markdown",
   "metadata": {},
   "source": [
    "#### P3.B (n = 32)"
   ]
  },
  {
   "cell_type": "code",
   "execution_count": null,
   "metadata": {},
   "outputs": [],
   "source": [
    "args = args_list[inpt_dir2index[\"../benchmarks/circle_packing_square/32/\"]]\n",
    "print(args)\n",
    "\n",
    "experiments_res = all_exp[args[\"inpt_dir\"]]"
   ]
  },
  {
   "cell_type": "code",
   "execution_count": null,
   "metadata": {},
   "outputs": [],
   "source": [
    "plot_experiments_statistical_summary(\n",
    "    {\n",
    "        \"mp + insp\": experiments_res[\"gemini_mp_insp/\"][\"res\"],\n",
    "        \"insp\": experiments_res[\"gemini_insp/\"][\"res\"],\n",
    "        \"mp\": experiments_res[\"gemini_mp/\"][\"res\"],\n",
    "        \"no mp or insp\": experiments_res[\"gemini_no_mp_or_insp/\"][\"res\"],\n",
    "        \"no evolution\": experiments_res[\"gemini_no_evolve/\"][\"res\"],\n",
    "    },\n",
    "    epsilon=1e-4,\n",
    "    title=\"Ablations for experiment P3.B\",\n",
    "    save_path=\"figs/P3B_ablations.pdf\",\n",
    ")"
   ]
  },
  {
   "cell_type": "markdown",
   "metadata": {},
   "source": [
    "### P4"
   ]
  },
  {
   "cell_type": "code",
   "execution_count": null,
   "metadata": {},
   "outputs": [],
   "source": [
    "args = args_list[inpt_dir2index[\"../benchmarks/circle_packing_rect/\"]]\n",
    "print(args)\n",
    "\n",
    "experiments_res = all_exp[args[\"inpt_dir\"]]"
   ]
  }
 ],
 "metadata": {
  "kernelspec": {
   "display_name": "evolve",
   "language": "python",
   "name": "python3"
  },
  "language_info": {
   "codemirror_mode": {
    "name": "ipython",
    "version": 3
   },
   "file_extension": ".py",
   "mimetype": "text/x-python",
   "name": "python",
   "nbconvert_exporter": "python",
   "pygments_lexer": "ipython3",
   "version": "3.13.5"
  }
 },
 "nbformat": 4,
 "nbformat_minor": 2
}
